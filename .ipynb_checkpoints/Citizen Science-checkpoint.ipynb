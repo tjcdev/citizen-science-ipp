{
 "cells": [
  {
   "cell_type": "markdown",
   "metadata": {},
   "source": [
    "# Imports"
   ]
  },
  {
   "cell_type": "code",
   "execution_count": 1,
   "metadata": {},
   "outputs": [],
   "source": [
    "import os\n",
    "import numpy as np \n",
    "import pandas as pd\n",
    "import matplotlib.pyplot as plt\n",
    "import seaborn as sns\n",
    "from string import ascii_uppercase\n",
    "import datetime\n",
    "from sklearn.model_selection import train_test_split\n",
    "from sklearn.linear_model import LogisticRegression\n",
    "from sklearn.ensemble import RandomForestClassifier\n",
    "import random\n",
    "from sklearn.neural_network import MLPClassifier\n",
    "%matplotlib inline"
   ]
  },
  {
   "cell_type": "markdown",
   "metadata": {},
   "source": [
    "# Load in Citizen Science Data"
   ]
  },
  {
   "cell_type": "code",
   "execution_count": 2,
   "metadata": {},
   "outputs": [],
   "source": [
    "# Load the CSV into a pandas dataframe\n",
    "data_path = os.path.join(os.getcwd(), '', 'citizenscience.csv')\n",
    "citsci = pd.read_csv(data_path, delimiter = ',',  header=None, names=['user_id', 'timestamp'])\n",
    "\n",
    "# Convert the timestamp to datetime\n",
    "citsci['timestamp'] = pd.to_datetime(citsci['timestamp'])"
   ]
  },
  {
   "cell_type": "code",
   "execution_count": 4,
   "metadata": {},
   "outputs": [
    {
     "data": {
      "text/html": [
       "<div>\n",
       "<style scoped>\n",
       "    .dataframe tbody tr th:only-of-type {\n",
       "        vertical-align: middle;\n",
       "    }\n",
       "\n",
       "    .dataframe tbody tr th {\n",
       "        vertical-align: top;\n",
       "    }\n",
       "\n",
       "    .dataframe thead th {\n",
       "        text-align: right;\n",
       "    }\n",
       "</style>\n",
       "<table border=\"1\" class=\"dataframe\">\n",
       "  <thead>\n",
       "    <tr style=\"text-align: right;\">\n",
       "      <th></th>\n",
       "      <th>user_id</th>\n",
       "      <th>timestamp</th>\n",
       "    </tr>\n",
       "  </thead>\n",
       "  <tbody>\n",
       "    <tr>\n",
       "      <th>count</th>\n",
       "      <td>99999</td>\n",
       "      <td>99999</td>\n",
       "    </tr>\n",
       "    <tr>\n",
       "      <th>unique</th>\n",
       "      <td>943</td>\n",
       "      <td>13370</td>\n",
       "    </tr>\n",
       "    <tr>\n",
       "      <th>top</th>\n",
       "      <td>5050a6760454e27aae0026db</td>\n",
       "      <td>2014-12-29 21:38:00</td>\n",
       "    </tr>\n",
       "    <tr>\n",
       "      <th>freq</th>\n",
       "      <td>5531</td>\n",
       "      <td>69</td>\n",
       "    </tr>\n",
       "    <tr>\n",
       "      <th>first</th>\n",
       "      <td>NaN</td>\n",
       "      <td>2014-12-23 16:53:00</td>\n",
       "    </tr>\n",
       "    <tr>\n",
       "      <th>last</th>\n",
       "      <td>NaN</td>\n",
       "      <td>2015-01-05 17:33:00</td>\n",
       "    </tr>\n",
       "  </tbody>\n",
       "</table>\n",
       "</div>"
      ],
      "text/plain": [
       "                         user_id            timestamp\n",
       "count                      99999                99999\n",
       "unique                       943                13370\n",
       "top     5050a6760454e27aae0026db  2014-12-29 21:38:00\n",
       "freq                        5531                   69\n",
       "first                        NaN  2014-12-23 16:53:00\n",
       "last                         NaN  2015-01-05 17:33:00"
      ]
     },
     "execution_count": 4,
     "metadata": {},
     "output_type": "execute_result"
    }
   ],
   "source": [
    "# Describe the dataset\n",
    "citsci.describe()"
   ]
  },
  {
   "cell_type": "code",
   "execution_count": 69,
   "metadata": {},
   "outputs": [
    {
     "data": {
      "text/html": [
       "<div>\n",
       "<style scoped>\n",
       "    .dataframe tbody tr th:only-of-type {\n",
       "        vertical-align: middle;\n",
       "    }\n",
       "\n",
       "    .dataframe tbody tr th {\n",
       "        vertical-align: top;\n",
       "    }\n",
       "\n",
       "    .dataframe thead th {\n",
       "        text-align: right;\n",
       "    }\n",
       "</style>\n",
       "<table border=\"1\" class=\"dataframe\">\n",
       "  <thead>\n",
       "    <tr style=\"text-align: right;\">\n",
       "      <th></th>\n",
       "      <th>user_id</th>\n",
       "      <th>timestamp</th>\n",
       "      <th>session_id</th>\n",
       "      <th>session_duration</th>\n",
       "      <th>idle_time</th>\n",
       "      <th>total_hits</th>\n",
       "      <th>will_churn</th>\n",
       "    </tr>\n",
       "  </thead>\n",
       "  <tbody>\n",
       "    <tr>\n",
       "      <th>95970</th>\n",
       "      <td>4d5835cc2a82e278e6000028</td>\n",
       "      <td>2015-01-05 09:07:00</td>\n",
       "      <td>1</td>\n",
       "      <td>0.000000</td>\n",
       "      <td>0.000000</td>\n",
       "      <td>0.000000</td>\n",
       "      <td>False</td>\n",
       "    </tr>\n",
       "    <tr>\n",
       "      <th>95971</th>\n",
       "      <td>4d5835cc2a82e278e6000028</td>\n",
       "      <td>2015-01-05 09:07:00</td>\n",
       "      <td>1</td>\n",
       "      <td>0.000000</td>\n",
       "      <td>0.000000</td>\n",
       "      <td>0.001307</td>\n",
       "      <td>False</td>\n",
       "    </tr>\n",
       "    <tr>\n",
       "      <th>95972</th>\n",
       "      <td>4d5835cc2a82e278e6000028</td>\n",
       "      <td>2015-01-05 09:08:00</td>\n",
       "      <td>1</td>\n",
       "      <td>0.004651</td>\n",
       "      <td>0.033333</td>\n",
       "      <td>0.002614</td>\n",
       "      <td>False</td>\n",
       "    </tr>\n",
       "    <tr>\n",
       "      <th>96058</th>\n",
       "      <td>4d5835cc2a82e278e6000028</td>\n",
       "      <td>2015-01-05 09:33:00</td>\n",
       "      <td>1</td>\n",
       "      <td>0.120930</td>\n",
       "      <td>0.833333</td>\n",
       "      <td>0.003922</td>\n",
       "      <td>True</td>\n",
       "    </tr>\n",
       "    <tr>\n",
       "      <th>98712</th>\n",
       "      <td>4d5835cc2a82e278e6000028</td>\n",
       "      <td>2015-01-05 15:04:00</td>\n",
       "      <td>2</td>\n",
       "      <td>0.000000</td>\n",
       "      <td>0.000000</td>\n",
       "      <td>0.000000</td>\n",
       "      <td>False</td>\n",
       "    </tr>\n",
       "  </tbody>\n",
       "</table>\n",
       "</div>"
      ],
      "text/plain": [
       "                        user_id           timestamp  session_id  \\\n",
       "95970  4d5835cc2a82e278e6000028 2015-01-05 09:07:00           1   \n",
       "95971  4d5835cc2a82e278e6000028 2015-01-05 09:07:00           1   \n",
       "95972  4d5835cc2a82e278e6000028 2015-01-05 09:08:00           1   \n",
       "96058  4d5835cc2a82e278e6000028 2015-01-05 09:33:00           1   \n",
       "98712  4d5835cc2a82e278e6000028 2015-01-05 15:04:00           2   \n",
       "\n",
       "       session_duration  idle_time  total_hits  will_churn  \n",
       "95970          0.000000   0.000000    0.000000       False  \n",
       "95971          0.000000   0.000000    0.001307       False  \n",
       "95972          0.004651   0.033333    0.002614       False  \n",
       "96058          0.120930   0.833333    0.003922        True  \n",
       "98712          0.000000   0.000000    0.000000       False  "
      ]
     },
     "execution_count": 69,
     "metadata": {},
     "output_type": "execute_result"
    }
   ],
   "source": [
    "# Inspect the first 5 rows of the dataset\n",
    "citsci.head()"
   ]
  },
  {
   "cell_type": "code",
   "execution_count": 7,
   "metadata": {},
   "outputs": [],
   "source": [
    "# Sort the dataset by user_id and then timestamp\n",
    "citsci = citsci.sort_values(['user_id', 'timestamp'])"
   ]
  },
  {
   "cell_type": "markdown",
   "metadata": {},
   "source": [
    "# Group into Session Data"
   ]
  },
  {
   "cell_type": "code",
   "execution_count": 15,
   "metadata": {},
   "outputs": [
    {
     "name": "stderr",
     "output_type": "stream",
     "text": [
      "/Users/thomascartwright/miniconda3/envs/ipp/lib/python3.7/site-packages/ipykernel_launcher.py:1: FutureWarning: pandas.core.datetools.timedelta is deprecated. Please use datetime.timedelta instead.\n",
      "  \"\"\"Entry point for launching an IPython kernel.\n"
     ]
    }
   ],
   "source": [
    "# Return the indices where two adjacent HITs have timestamps that are more than 30 minutes apart\n",
    "gt_30min = citsci.timestamp.diff() > pd.datetools.timedelta(minutes=30)"
   ]
  },
  {
   "cell_type": "code",
   "execution_count": 16,
   "metadata": {},
   "outputs": [],
   "source": [
    "# Return the indices where two adjacent HITs have different user_ids\n",
    "diff_user = citsci.user_id != citsci.user_id.shift()"
   ]
  },
  {
   "cell_type": "code",
   "execution_count": 17,
   "metadata": {},
   "outputs": [],
   "source": [
    "# Any indice that appears in the above arrays signifies the end of a session\n",
    "session_id = (diff_user | gt_30min).cumsum()"
   ]
  },
  {
   "cell_type": "code",
   "execution_count": 19,
   "metadata": {},
   "outputs": [],
   "source": [
    "# Mark each HIT with a session_id\n",
    "citsci['session_id'] = session_id"
   ]
  },
  {
   "cell_type": "code",
   "execution_count": 21,
   "metadata": {
    "scrolled": true
   },
   "outputs": [
    {
     "data": {
      "text/html": [
       "<div>\n",
       "<style scoped>\n",
       "    .dataframe tbody tr th:only-of-type {\n",
       "        vertical-align: middle;\n",
       "    }\n",
       "\n",
       "    .dataframe tbody tr th {\n",
       "        vertical-align: top;\n",
       "    }\n",
       "\n",
       "    .dataframe thead th {\n",
       "        text-align: right;\n",
       "    }\n",
       "</style>\n",
       "<table border=\"1\" class=\"dataframe\">\n",
       "  <thead>\n",
       "    <tr style=\"text-align: right;\">\n",
       "      <th></th>\n",
       "      <th>user_id</th>\n",
       "      <th>timestamp</th>\n",
       "      <th>session_id</th>\n",
       "    </tr>\n",
       "  </thead>\n",
       "  <tbody>\n",
       "    <tr>\n",
       "      <th>12</th>\n",
       "      <td>508920379177d041ea003fd8</td>\n",
       "      <td>2014-12-23 16:53:00</td>\n",
       "      <td>301</td>\n",
       "    </tr>\n",
       "    <tr>\n",
       "      <th>16</th>\n",
       "      <td>508920379177d041ea003fd8</td>\n",
       "      <td>2014-12-23 16:53:00</td>\n",
       "      <td>301</td>\n",
       "    </tr>\n",
       "    <tr>\n",
       "      <th>21</th>\n",
       "      <td>508920379177d041ea003fd8</td>\n",
       "      <td>2014-12-23 16:53:00</td>\n",
       "      <td>301</td>\n",
       "    </tr>\n",
       "    <tr>\n",
       "      <th>44</th>\n",
       "      <td>508920379177d041ea003fd8</td>\n",
       "      <td>2014-12-23 16:54:00</td>\n",
       "      <td>301</td>\n",
       "    </tr>\n",
       "    <tr>\n",
       "      <th>612</th>\n",
       "      <td>508920379177d041ea003fd8</td>\n",
       "      <td>2014-12-23 17:10:00</td>\n",
       "      <td>301</td>\n",
       "    </tr>\n",
       "    <tr>\n",
       "      <th>698</th>\n",
       "      <td>508920379177d041ea003fd8</td>\n",
       "      <td>2014-12-23 17:25:00</td>\n",
       "      <td>301</td>\n",
       "    </tr>\n",
       "    <tr>\n",
       "      <th>7210</th>\n",
       "      <td>508920379177d041ea003fd8</td>\n",
       "      <td>2014-12-24 16:01:00</td>\n",
       "      <td>302</td>\n",
       "    </tr>\n",
       "    <tr>\n",
       "      <th>7211</th>\n",
       "      <td>508920379177d041ea003fd8</td>\n",
       "      <td>2014-12-24 16:01:00</td>\n",
       "      <td>302</td>\n",
       "    </tr>\n",
       "    <tr>\n",
       "      <th>7212</th>\n",
       "      <td>508920379177d041ea003fd8</td>\n",
       "      <td>2014-12-24 16:02:00</td>\n",
       "      <td>302</td>\n",
       "    </tr>\n",
       "    <tr>\n",
       "      <th>7213</th>\n",
       "      <td>508920379177d041ea003fd8</td>\n",
       "      <td>2014-12-24 16:02:00</td>\n",
       "      <td>302</td>\n",
       "    </tr>\n",
       "    <tr>\n",
       "      <th>7214</th>\n",
       "      <td>508920379177d041ea003fd8</td>\n",
       "      <td>2014-12-24 16:02:00</td>\n",
       "      <td>302</td>\n",
       "    </tr>\n",
       "    <tr>\n",
       "      <th>18141</th>\n",
       "      <td>508920379177d041ea003fd8</td>\n",
       "      <td>2014-12-26 15:52:00</td>\n",
       "      <td>303</td>\n",
       "    </tr>\n",
       "    <tr>\n",
       "      <th>18142</th>\n",
       "      <td>508920379177d041ea003fd8</td>\n",
       "      <td>2014-12-26 15:52:00</td>\n",
       "      <td>303</td>\n",
       "    </tr>\n",
       "    <tr>\n",
       "      <th>18144</th>\n",
       "      <td>508920379177d041ea003fd8</td>\n",
       "      <td>2014-12-26 15:53:00</td>\n",
       "      <td>303</td>\n",
       "    </tr>\n",
       "    <tr>\n",
       "      <th>18146</th>\n",
       "      <td>508920379177d041ea003fd8</td>\n",
       "      <td>2014-12-26 15:54:00</td>\n",
       "      <td>303</td>\n",
       "    </tr>\n",
       "    <tr>\n",
       "      <th>18149</th>\n",
       "      <td>508920379177d041ea003fd8</td>\n",
       "      <td>2014-12-26 15:54:00</td>\n",
       "      <td>303</td>\n",
       "    </tr>\n",
       "    <tr>\n",
       "      <th>18152</th>\n",
       "      <td>508920379177d041ea003fd8</td>\n",
       "      <td>2014-12-26 15:54:00</td>\n",
       "      <td>303</td>\n",
       "    </tr>\n",
       "    <tr>\n",
       "      <th>18153</th>\n",
       "      <td>508920379177d041ea003fd8</td>\n",
       "      <td>2014-12-26 15:54:00</td>\n",
       "      <td>303</td>\n",
       "    </tr>\n",
       "    <tr>\n",
       "      <th>18155</th>\n",
       "      <td>508920379177d041ea003fd8</td>\n",
       "      <td>2014-12-26 15:55:00</td>\n",
       "      <td>303</td>\n",
       "    </tr>\n",
       "    <tr>\n",
       "      <th>18156</th>\n",
       "      <td>508920379177d041ea003fd8</td>\n",
       "      <td>2014-12-26 15:55:00</td>\n",
       "      <td>303</td>\n",
       "    </tr>\n",
       "    <tr>\n",
       "      <th>18157</th>\n",
       "      <td>508920379177d041ea003fd8</td>\n",
       "      <td>2014-12-26 15:55:00</td>\n",
       "      <td>303</td>\n",
       "    </tr>\n",
       "    <tr>\n",
       "      <th>18163</th>\n",
       "      <td>508920379177d041ea003fd8</td>\n",
       "      <td>2014-12-26 15:57:00</td>\n",
       "      <td>303</td>\n",
       "    </tr>\n",
       "    <tr>\n",
       "      <th>24997</th>\n",
       "      <td>508920379177d041ea003fd8</td>\n",
       "      <td>2014-12-27 15:36:00</td>\n",
       "      <td>304</td>\n",
       "    </tr>\n",
       "    <tr>\n",
       "      <th>24999</th>\n",
       "      <td>508920379177d041ea003fd8</td>\n",
       "      <td>2014-12-27 15:37:00</td>\n",
       "      <td>304</td>\n",
       "    </tr>\n",
       "    <tr>\n",
       "      <th>25000</th>\n",
       "      <td>508920379177d041ea003fd8</td>\n",
       "      <td>2014-12-27 15:37:00</td>\n",
       "      <td>304</td>\n",
       "    </tr>\n",
       "    <tr>\n",
       "      <th>25002</th>\n",
       "      <td>508920379177d041ea003fd8</td>\n",
       "      <td>2014-12-27 15:38:00</td>\n",
       "      <td>304</td>\n",
       "    </tr>\n",
       "    <tr>\n",
       "      <th>25124</th>\n",
       "      <td>508920379177d041ea003fd8</td>\n",
       "      <td>2014-12-27 15:55:00</td>\n",
       "      <td>304</td>\n",
       "    </tr>\n",
       "    <tr>\n",
       "      <th>25126</th>\n",
       "      <td>508920379177d041ea003fd8</td>\n",
       "      <td>2014-12-27 15:55:00</td>\n",
       "      <td>304</td>\n",
       "    </tr>\n",
       "    <tr>\n",
       "      <th>25128</th>\n",
       "      <td>508920379177d041ea003fd8</td>\n",
       "      <td>2014-12-27 15:55:00</td>\n",
       "      <td>304</td>\n",
       "    </tr>\n",
       "    <tr>\n",
       "      <th>25129</th>\n",
       "      <td>508920379177d041ea003fd8</td>\n",
       "      <td>2014-12-27 15:56:00</td>\n",
       "      <td>304</td>\n",
       "    </tr>\n",
       "    <tr>\n",
       "      <th>...</th>\n",
       "      <td>...</td>\n",
       "      <td>...</td>\n",
       "      <td>...</td>\n",
       "    </tr>\n",
       "    <tr>\n",
       "      <th>99333</th>\n",
       "      <td>508920379177d041ea003fd8</td>\n",
       "      <td>2015-01-05 17:02:00</td>\n",
       "      <td>321</td>\n",
       "    </tr>\n",
       "    <tr>\n",
       "      <th>99335</th>\n",
       "      <td>508920379177d041ea003fd8</td>\n",
       "      <td>2015-01-05 17:02:00</td>\n",
       "      <td>321</td>\n",
       "    </tr>\n",
       "    <tr>\n",
       "      <th>99336</th>\n",
       "      <td>508920379177d041ea003fd8</td>\n",
       "      <td>2015-01-05 17:02:00</td>\n",
       "      <td>321</td>\n",
       "    </tr>\n",
       "    <tr>\n",
       "      <th>99337</th>\n",
       "      <td>508920379177d041ea003fd8</td>\n",
       "      <td>2015-01-05 17:03:00</td>\n",
       "      <td>321</td>\n",
       "    </tr>\n",
       "    <tr>\n",
       "      <th>99338</th>\n",
       "      <td>508920379177d041ea003fd8</td>\n",
       "      <td>2015-01-05 17:03:00</td>\n",
       "      <td>321</td>\n",
       "    </tr>\n",
       "    <tr>\n",
       "      <th>99339</th>\n",
       "      <td>508920379177d041ea003fd8</td>\n",
       "      <td>2015-01-05 17:03:00</td>\n",
       "      <td>321</td>\n",
       "    </tr>\n",
       "    <tr>\n",
       "      <th>99340</th>\n",
       "      <td>508920379177d041ea003fd8</td>\n",
       "      <td>2015-01-05 17:03:00</td>\n",
       "      <td>321</td>\n",
       "    </tr>\n",
       "    <tr>\n",
       "      <th>99341</th>\n",
       "      <td>508920379177d041ea003fd8</td>\n",
       "      <td>2015-01-05 17:04:00</td>\n",
       "      <td>321</td>\n",
       "    </tr>\n",
       "    <tr>\n",
       "      <th>99342</th>\n",
       "      <td>508920379177d041ea003fd8</td>\n",
       "      <td>2015-01-05 17:04:00</td>\n",
       "      <td>321</td>\n",
       "    </tr>\n",
       "    <tr>\n",
       "      <th>99343</th>\n",
       "      <td>508920379177d041ea003fd8</td>\n",
       "      <td>2015-01-05 17:04:00</td>\n",
       "      <td>321</td>\n",
       "    </tr>\n",
       "    <tr>\n",
       "      <th>99347</th>\n",
       "      <td>508920379177d041ea003fd8</td>\n",
       "      <td>2015-01-05 17:04:00</td>\n",
       "      <td>321</td>\n",
       "    </tr>\n",
       "    <tr>\n",
       "      <th>99350</th>\n",
       "      <td>508920379177d041ea003fd8</td>\n",
       "      <td>2015-01-05 17:04:00</td>\n",
       "      <td>321</td>\n",
       "    </tr>\n",
       "    <tr>\n",
       "      <th>99354</th>\n",
       "      <td>508920379177d041ea003fd8</td>\n",
       "      <td>2015-01-05 17:05:00</td>\n",
       "      <td>321</td>\n",
       "    </tr>\n",
       "    <tr>\n",
       "      <th>99356</th>\n",
       "      <td>508920379177d041ea003fd8</td>\n",
       "      <td>2015-01-05 17:05:00</td>\n",
       "      <td>321</td>\n",
       "    </tr>\n",
       "    <tr>\n",
       "      <th>99357</th>\n",
       "      <td>508920379177d041ea003fd8</td>\n",
       "      <td>2015-01-05 17:06:00</td>\n",
       "      <td>321</td>\n",
       "    </tr>\n",
       "    <tr>\n",
       "      <th>99439</th>\n",
       "      <td>508920379177d041ea003fd8</td>\n",
       "      <td>2015-01-05 17:14:00</td>\n",
       "      <td>321</td>\n",
       "    </tr>\n",
       "    <tr>\n",
       "      <th>99440</th>\n",
       "      <td>508920379177d041ea003fd8</td>\n",
       "      <td>2015-01-05 17:14:00</td>\n",
       "      <td>321</td>\n",
       "    </tr>\n",
       "    <tr>\n",
       "      <th>99442</th>\n",
       "      <td>508920379177d041ea003fd8</td>\n",
       "      <td>2015-01-05 17:14:00</td>\n",
       "      <td>321</td>\n",
       "    </tr>\n",
       "    <tr>\n",
       "      <th>99443</th>\n",
       "      <td>508920379177d041ea003fd8</td>\n",
       "      <td>2015-01-05 17:14:00</td>\n",
       "      <td>321</td>\n",
       "    </tr>\n",
       "    <tr>\n",
       "      <th>99448</th>\n",
       "      <td>508920379177d041ea003fd8</td>\n",
       "      <td>2015-01-05 17:15:00</td>\n",
       "      <td>321</td>\n",
       "    </tr>\n",
       "    <tr>\n",
       "      <th>99449</th>\n",
       "      <td>508920379177d041ea003fd8</td>\n",
       "      <td>2015-01-05 17:15:00</td>\n",
       "      <td>321</td>\n",
       "    </tr>\n",
       "    <tr>\n",
       "      <th>99451</th>\n",
       "      <td>508920379177d041ea003fd8</td>\n",
       "      <td>2015-01-05 17:15:00</td>\n",
       "      <td>321</td>\n",
       "    </tr>\n",
       "    <tr>\n",
       "      <th>99455</th>\n",
       "      <td>508920379177d041ea003fd8</td>\n",
       "      <td>2015-01-05 17:15:00</td>\n",
       "      <td>321</td>\n",
       "    </tr>\n",
       "    <tr>\n",
       "      <th>99486</th>\n",
       "      <td>508920379177d041ea003fd8</td>\n",
       "      <td>2015-01-05 17:16:00</td>\n",
       "      <td>321</td>\n",
       "    </tr>\n",
       "    <tr>\n",
       "      <th>99901</th>\n",
       "      <td>508920379177d041ea003fd8</td>\n",
       "      <td>2015-01-05 17:30:00</td>\n",
       "      <td>321</td>\n",
       "    </tr>\n",
       "    <tr>\n",
       "      <th>99905</th>\n",
       "      <td>508920379177d041ea003fd8</td>\n",
       "      <td>2015-01-05 17:30:00</td>\n",
       "      <td>321</td>\n",
       "    </tr>\n",
       "    <tr>\n",
       "      <th>99908</th>\n",
       "      <td>508920379177d041ea003fd8</td>\n",
       "      <td>2015-01-05 17:30:00</td>\n",
       "      <td>321</td>\n",
       "    </tr>\n",
       "    <tr>\n",
       "      <th>99934</th>\n",
       "      <td>508920379177d041ea003fd8</td>\n",
       "      <td>2015-01-05 17:31:00</td>\n",
       "      <td>321</td>\n",
       "    </tr>\n",
       "    <tr>\n",
       "      <th>99942</th>\n",
       "      <td>508920379177d041ea003fd8</td>\n",
       "      <td>2015-01-05 17:31:00</td>\n",
       "      <td>321</td>\n",
       "    </tr>\n",
       "    <tr>\n",
       "      <th>99958</th>\n",
       "      <td>508920379177d041ea003fd8</td>\n",
       "      <td>2015-01-05 17:32:00</td>\n",
       "      <td>321</td>\n",
       "    </tr>\n",
       "  </tbody>\n",
       "</table>\n",
       "<p>543 rows × 3 columns</p>\n",
       "</div>"
      ],
      "text/plain": [
       "                        user_id           timestamp  session_id\n",
       "12     508920379177d041ea003fd8 2014-12-23 16:53:00         301\n",
       "16     508920379177d041ea003fd8 2014-12-23 16:53:00         301\n",
       "21     508920379177d041ea003fd8 2014-12-23 16:53:00         301\n",
       "44     508920379177d041ea003fd8 2014-12-23 16:54:00         301\n",
       "612    508920379177d041ea003fd8 2014-12-23 17:10:00         301\n",
       "698    508920379177d041ea003fd8 2014-12-23 17:25:00         301\n",
       "7210   508920379177d041ea003fd8 2014-12-24 16:01:00         302\n",
       "7211   508920379177d041ea003fd8 2014-12-24 16:01:00         302\n",
       "7212   508920379177d041ea003fd8 2014-12-24 16:02:00         302\n",
       "7213   508920379177d041ea003fd8 2014-12-24 16:02:00         302\n",
       "7214   508920379177d041ea003fd8 2014-12-24 16:02:00         302\n",
       "18141  508920379177d041ea003fd8 2014-12-26 15:52:00         303\n",
       "18142  508920379177d041ea003fd8 2014-12-26 15:52:00         303\n",
       "18144  508920379177d041ea003fd8 2014-12-26 15:53:00         303\n",
       "18146  508920379177d041ea003fd8 2014-12-26 15:54:00         303\n",
       "18149  508920379177d041ea003fd8 2014-12-26 15:54:00         303\n",
       "18152  508920379177d041ea003fd8 2014-12-26 15:54:00         303\n",
       "18153  508920379177d041ea003fd8 2014-12-26 15:54:00         303\n",
       "18155  508920379177d041ea003fd8 2014-12-26 15:55:00         303\n",
       "18156  508920379177d041ea003fd8 2014-12-26 15:55:00         303\n",
       "18157  508920379177d041ea003fd8 2014-12-26 15:55:00         303\n",
       "18163  508920379177d041ea003fd8 2014-12-26 15:57:00         303\n",
       "24997  508920379177d041ea003fd8 2014-12-27 15:36:00         304\n",
       "24999  508920379177d041ea003fd8 2014-12-27 15:37:00         304\n",
       "25000  508920379177d041ea003fd8 2014-12-27 15:37:00         304\n",
       "25002  508920379177d041ea003fd8 2014-12-27 15:38:00         304\n",
       "25124  508920379177d041ea003fd8 2014-12-27 15:55:00         304\n",
       "25126  508920379177d041ea003fd8 2014-12-27 15:55:00         304\n",
       "25128  508920379177d041ea003fd8 2014-12-27 15:55:00         304\n",
       "25129  508920379177d041ea003fd8 2014-12-27 15:56:00         304\n",
       "...                         ...                 ...         ...\n",
       "99333  508920379177d041ea003fd8 2015-01-05 17:02:00         321\n",
       "99335  508920379177d041ea003fd8 2015-01-05 17:02:00         321\n",
       "99336  508920379177d041ea003fd8 2015-01-05 17:02:00         321\n",
       "99337  508920379177d041ea003fd8 2015-01-05 17:03:00         321\n",
       "99338  508920379177d041ea003fd8 2015-01-05 17:03:00         321\n",
       "99339  508920379177d041ea003fd8 2015-01-05 17:03:00         321\n",
       "99340  508920379177d041ea003fd8 2015-01-05 17:03:00         321\n",
       "99341  508920379177d041ea003fd8 2015-01-05 17:04:00         321\n",
       "99342  508920379177d041ea003fd8 2015-01-05 17:04:00         321\n",
       "99343  508920379177d041ea003fd8 2015-01-05 17:04:00         321\n",
       "99347  508920379177d041ea003fd8 2015-01-05 17:04:00         321\n",
       "99350  508920379177d041ea003fd8 2015-01-05 17:04:00         321\n",
       "99354  508920379177d041ea003fd8 2015-01-05 17:05:00         321\n",
       "99356  508920379177d041ea003fd8 2015-01-05 17:05:00         321\n",
       "99357  508920379177d041ea003fd8 2015-01-05 17:06:00         321\n",
       "99439  508920379177d041ea003fd8 2015-01-05 17:14:00         321\n",
       "99440  508920379177d041ea003fd8 2015-01-05 17:14:00         321\n",
       "99442  508920379177d041ea003fd8 2015-01-05 17:14:00         321\n",
       "99443  508920379177d041ea003fd8 2015-01-05 17:14:00         321\n",
       "99448  508920379177d041ea003fd8 2015-01-05 17:15:00         321\n",
       "99449  508920379177d041ea003fd8 2015-01-05 17:15:00         321\n",
       "99451  508920379177d041ea003fd8 2015-01-05 17:15:00         321\n",
       "99455  508920379177d041ea003fd8 2015-01-05 17:15:00         321\n",
       "99486  508920379177d041ea003fd8 2015-01-05 17:16:00         321\n",
       "99901  508920379177d041ea003fd8 2015-01-05 17:30:00         321\n",
       "99905  508920379177d041ea003fd8 2015-01-05 17:30:00         321\n",
       "99908  508920379177d041ea003fd8 2015-01-05 17:30:00         321\n",
       "99934  508920379177d041ea003fd8 2015-01-05 17:31:00         321\n",
       "99942  508920379177d041ea003fd8 2015-01-05 17:31:00         321\n",
       "99958  508920379177d041ea003fd8 2015-01-05 17:32:00         321\n",
       "\n",
       "[543 rows x 3 columns]"
      ]
     },
     "execution_count": 21,
     "metadata": {},
     "output_type": "execute_result"
    }
   ],
   "source": [
    "# Show some example HITs for a particular user\n",
    "citsci[citsci['user_id'] == '508920379177d041ea003fd8']"
   ]
  },
  {
   "cell_type": "markdown",
   "metadata": {},
   "source": [
    "# Add new columns to each HIT"
   ]
  },
  {
   "cell_type": "markdown",
   "metadata": {},
   "source": [
    "Add field for session duration so far"
   ]
  },
  {
   "cell_type": "code",
   "execution_count": 22,
   "metadata": {},
   "outputs": [],
   "source": [
    "session_duration = citsci['timestamp'] - citsci.groupby('session_id')['timestamp'].transform('first')\n",
    "citsci['session_duration'] = session_duration.dt.seconds // 60"
   ]
  },
  {
   "cell_type": "markdown",
   "metadata": {},
   "source": [
    "Add field for time since last HIT"
   ]
  },
  {
   "cell_type": "code",
   "execution_count": 23,
   "metadata": {},
   "outputs": [],
   "source": [
    "idle_time = citsci.groupby('session_id')['timestamp'].diff().fillna(0)\n",
    "citsci['idle_time'] = idle_time.dt.seconds // 60"
   ]
  },
  {
   "cell_type": "markdown",
   "metadata": {},
   "source": [
    "Add field for number of HITs in this session"
   ]
  },
  {
   "cell_type": "code",
   "execution_count": 24,
   "metadata": {},
   "outputs": [],
   "source": [
    "total_hits = citsci.groupby([\"session_id\"]).cumcount()\n",
    "citsci['total_hits'] = total_hits"
   ]
  },
  {
   "cell_type": "markdown",
   "metadata": {},
   "source": [
    "Add field for whether churn will occur in 5 minutes"
   ]
  },
  {
   "cell_type": "code",
   "execution_count": 25,
   "metadata": {},
   "outputs": [],
   "source": [
    "will_churn = citsci.groupby('session_id')['timestamp'].transform('last') - citsci['timestamp']\n",
    "will_churn = will_churn < datetime.timedelta(minutes=5)\n",
    "citsci['will_churn'] = will_churn"
   ]
  },
  {
   "cell_type": "markdown",
   "metadata": {},
   "source": [
    "Normalise the Data"
   ]
  },
  {
   "cell_type": "code",
   "execution_count": 26,
   "metadata": {},
   "outputs": [],
   "source": [
    "citsci[\"session_duration\"]=((citsci[\"session_duration\"]-citsci[\"session_duration\"].min())/(citsci[\"session_duration\"].max()-citsci[\"session_duration\"].min()))\n",
    "citsci[\"idle_time\"]=((citsci[\"idle_time\"]-citsci[\"idle_time\"].min())/(citsci[\"idle_time\"].max()-citsci[\"idle_time\"].min()))\n",
    "citsci[\"total_hits\"]=((citsci[\"total_hits\"]-citsci[\"total_hits\"].min())/(citsci[\"total_hits\"].max()-citsci[\"total_hits\"].min()))"
   ]
  },
  {
   "cell_type": "markdown",
   "metadata": {},
   "source": [
    "Inspect the balance of the classes"
   ]
  },
  {
   "cell_type": "code",
   "execution_count": 71,
   "metadata": {},
   "outputs": [
    {
     "data": {
      "text/plain": [
       "count     99999\n",
       "unique        2\n",
       "top       False\n",
       "freq      70095\n",
       "Name: will_churn, dtype: object"
      ]
     },
     "execution_count": 71,
     "metadata": {},
     "output_type": "execute_result"
    }
   ],
   "source": [
    "citsci['will_churn'].describe()"
   ]
  },
  {
   "cell_type": "markdown",
   "metadata": {},
   "source": [
    "From this we can see that roughly 70% of the HITs are not within 5 minutes of a churn event."
   ]
  },
  {
   "cell_type": "markdown",
   "metadata": {},
   "source": [
    "# Split Data into Train/Test"
   ]
  },
  {
   "cell_type": "code",
   "execution_count": 29,
   "metadata": {},
   "outputs": [
    {
     "name": "stderr",
     "output_type": "stream",
     "text": [
      "/Users/thomascartwright/miniconda3/envs/ipp/lib/python3.7/site-packages/sklearn/utils/__init__.py:4: DeprecationWarning: Using or importing the ABCs from 'collections' instead of from 'collections.abc' is deprecated, and in 3.8 it will stop working\n",
      "  from collections import Sequence\n"
     ]
    }
   ],
   "source": [
    "X = citsci[['session_duration', 'idle_time', 'total_hits']]\n",
    "y = citsci['will_churn']"
   ]
  },
  {
   "cell_type": "code",
   "execution_count": 30,
   "metadata": {},
   "outputs": [],
   "source": [
    "X_train, X_test, y_train, y_test = train_test_split(X, y, train_size = 0.75, test_size=0.25, random_state=0)"
   ]
  },
  {
   "cell_type": "markdown",
   "metadata": {},
   "source": [
    "# Confusion Matrix"
   ]
  },
  {
   "cell_type": "code",
   "execution_count": 38,
   "metadata": {},
   "outputs": [],
   "source": [
    "from sklearn.metrics import confusion_matrix\n",
    "def plot_confusion_matrix(cm, classes=None, title='Confusion matrix'):\n",
    "    \"\"\"Plots a confusion matrix.\"\"\"\n",
    "    if classes is not None:\n",
    "        sns.heatmap(cm, xticklabels=classes, yticklabels=classes, vmin=0., vmax=1., annot=True)\n",
    "    else:\n",
    "        sns.heatmap(cm, vmin=0., vmax=1.)\n",
    "    plt.title(title)\n",
    "    plt.ylabel('True label')"
   ]
  },
  {
   "cell_type": "markdown",
   "metadata": {},
   "source": [
    "# Logistic Regression"
   ]
  },
  {
   "cell_type": "code",
   "execution_count": 31,
   "metadata": {},
   "outputs": [],
   "source": [
    "# Initialise our logistic regression model\n",
    "clf = LogisticRegression(random_state=0, solver='lbfgs', class_weight='balanced').fit(X_train, y_train)"
   ]
  },
  {
   "cell_type": "code",
   "execution_count": 34,
   "metadata": {},
   "outputs": [],
   "source": [
    "# Get the logistic regression model's predictions for the classes\n",
    "lr_pred = clf.predict(X_test)"
   ]
  },
  {
   "cell_type": "code",
   "execution_count": 39,
   "metadata": {},
   "outputs": [
    {
     "data": {
      "image/png": "[encoded data removed]",
      "text/plain": [
       "<Figure size 432x288 with 2 Axes>"
      ]
     },
     "metadata": {
      "needs_background": "light"
     },
     "output_type": "display_data"
    }
   ],
   "source": [
    "cm = confusion_matrix(y_test, lr_pred)\n",
    "cm_norm = cm/cm.sum(axis=1)[:, np.newaxis]\n",
    "\n",
    "# Plot the confusion matrix as a heatmap\n",
    "plt.figure()\n",
    "plot_confusion_matrix(cm_norm, classes=['0', '1'])\n",
    "plt.title(\"Classification of News Documents\")\n",
    "plt.show()"
   ]
  },
  {
   "cell_type": "markdown",
   "metadata": {},
   "source": [
    "# Random Forest Classifier"
   ]
  },
  {
   "cell_type": "code",
   "execution_count": 35,
   "metadata": {},
   "outputs": [
    {
     "name": "stderr",
     "output_type": "stream",
     "text": [
      "/Users/thomascartwright/miniconda3/envs/ipp/lib/python3.7/site-packages/sklearn/ensemble/weight_boosting.py:29: DeprecationWarning: numpy.core.umath_tests is an internal NumPy module and should not be imported. It will be removed in a future NumPy release.\n",
      "  from numpy.core.umath_tests import inner1d\n"
     ]
    }
   ],
   "source": [
    "# Fit our random forest classifier to the data using 3 estimators\n",
    "rf = RandomForestClassifier(n_estimators=3, criterion='entropy', class_weight='balanced').fit(X_train, y_train)"
   ]
  },
  {
   "cell_type": "code",
   "execution_count": 75,
   "metadata": {},
   "outputs": [],
   "source": [
    "# Make our predictions\n",
    "rf_pred = rf.predict(X_train)"
   ]
  },
  {
   "cell_type": "code",
   "execution_count": 77,
   "metadata": {},
   "outputs": [
    {
     "data": {
      "image/png": "[encoded data removed]",
      "text/plain": [
       "<Figure size 432x288 with 2 Axes>"
      ]
     },
     "metadata": {
      "needs_background": "light"
     },
     "output_type": "display_data"
    }
   ],
   "source": [
    "cm = confusion_matrix(y_train, rf_pred)\n",
    "cm_norm = cm/cm.sum(axis=1)[:, np.newaxis]\n",
    "\n",
    "# Plot the confusion matrix as a heatmap\n",
    "plt.figure()\n",
    "plot_confusion_matrix(cm_norm, classes=['0', '1'])\n",
    "plt.title(\"Classification of News Documents\")\n",
    "plt.show()"
   ]
  },
  {
   "cell_type": "markdown",
   "metadata": {},
   "source": [
    "# Neural Network"
   ]
  },
  {
   "cell_type": "markdown",
   "metadata": {},
   "source": [
    "First we need to balance the classes in our training set. We will do this by undersampling the HITs that have ```will_churn=0```"
   ]
  },
  {
   "cell_type": "code",
   "execution_count": 99,
   "metadata": {},
   "outputs": [],
   "source": [
    "# Get all HITs that are going to churn\n",
    "churn_X_train = X_train[y_train == 1]\n",
    "churn_y_train = y_train[y_train == 1]\n",
    "\n",
    "# Get all HITs that are not going to churn\n",
    "stay_X_train = X_train[y_train == 0]\n",
    "stay_y_train = y_train[y_train == 0]\n",
    "\n",
    "# Sample a random number of HITs from the 'will not churn' group\n",
    "random.seed(0)\n",
    "sample_indices = random.sample(range(0, stay_X_train.shape[0]), churn_X_train.shape[0])\n",
    "stay_X_train = stay_X_train.iloc[sample_indices]\n",
    "stay_y_train = stay_y_train.iloc[sample_indices]\n",
    "\n",
    "# Create a set of HITs that have balanced classes for will_churn\n",
    "balanced_X_train = pd.concat([churn_X_train, stay_X_train])\n",
    "balanced_y_train = pd.concat([churn_y_train, stay_y_train])"
   ]
  },
  {
   "cell_type": "code",
   "execution_count": 100,
   "metadata": {},
   "outputs": [
    {
     "data": {
      "text/plain": [
       "MLPClassifier(activation='logistic', alpha=0.0001, batch_size='auto',\n",
       "       beta_1=0.9, beta_2=0.999, early_stopping=False, epsilon=1e-08,\n",
       "       hidden_layer_sizes=(2,), learning_rate='constant',\n",
       "       learning_rate_init=0.001, max_iter=200, momentum=0.9,\n",
       "       nesterovs_momentum=True, power_t=0.5, random_state=None,\n",
       "       shuffle=True, solver='sgd', tol=0.0001, validation_fraction=0.1,\n",
       "       verbose=False, warm_start=False)"
      ]
     },
     "execution_count": 100,
     "metadata": {},
     "output_type": "execute_result"
    }
   ],
   "source": [
    "# Initialise our neural network\n",
    "mlp = MLPClassifier(hidden_layer_sizes=(2, ), \n",
    "                    activation='logistic',\n",
    "                    solver='sgd')\n",
    "# Fit out neural network to the balanced classes\n",
    "mlp.fit(balanced_X_train, balanced_y_train)"
   ]
  },
  {
   "cell_type": "code",
   "execution_count": 101,
   "metadata": {},
   "outputs": [],
   "source": [
    "# Make our predictions on the test set\n",
    "nn_pred = mlp.predict(X_train)"
   ]
  },
  {
   "cell_type": "code",
   "execution_count": 102,
   "metadata": {},
   "outputs": [
    {
     "data": {
      "image/png": "[encoded data removed]",
      "text/plain": [
       "<Figure size 432x288 with 2 Axes>"
      ]
     },
     "metadata": {
      "needs_background": "light"
     },
     "output_type": "display_data"
    }
   ],
   "source": [
    "cm = confusion_matrix(y_train, nn_pred)\n",
    "cm_norm = cm/cm.sum(axis=1)[:, np.newaxis]\n",
    "\n",
    "# Plot the confusion matrix as a heatmap\n",
    "plt.figure()\n",
    "plot_confusion_matrix(cm_norm, classes=['0', '1'])\n",
    "plt.title(\"Classification of News Documents\")\n",
    "plt.show()"
   ]
  },
  {
   "cell_type": "code",
   "execution_count": null,
   "metadata": {},
   "outputs": [],
   "source": []
  }
 ],
 "metadata": {
  "kernelspec": {
   "display_name": "Python 3",
   "language": "python",
   "name": "python3"
  },
  "language_info": {
   "codemirror_mode": {
    "name": "ipython",
    "version": 3
   },
   "file_extension": ".py",
   "mimetype": "text/x-python",
   "name": "python",
   "nbconvert_exporter": "python",
   "pygments_lexer": "ipython3",
   "version": "3.7.0"
  }
 },
 "nbformat": 4,
 "nbformat_minor": 2
}
